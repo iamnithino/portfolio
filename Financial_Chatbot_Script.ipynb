{
  "cells": [
    {
      "cell_type": "markdown",
      "metadata": {
        "id": "view-in-github",
        "colab_type": "text"
      },
      "source": [
        "<a href=\"https://colab.research.google.com/github/iamnithino/portfolio/blob/main/Financial_Chatbot_Script.ipynb\" target=\"_parent\"><img src=\"https://colab.research.google.com/assets/colab-badge.svg\" alt=\"Open In Colab\"/></a>"
      ]
    },
    {
      "cell_type": "code",
      "source": [
        "# financial_chatbot.py\n",
        "\n",
        "def get_financial_data_response(user_query):\n",
        "    \"\"\"\n",
        "    This function takes a user's query and returns a predefined response\n",
        "    based on a set of financial questions.\n",
        "    \"\"\"\n",
        "    # Standardize the user input to be lowercase and remove trailing whitespace\n",
        "    # to make the matching less case-sensitive and more robust.\n",
        "    query = user_query.lower().strip()\n",
        "\n",
        "    # --- Predefined Queries and Canned Responses ---\n",
        "    # This section maps specific questions to their answers.\n",
        "\n",
        "    if query == \"what is the total revenue?\":\n",
        "        return \"The total revenue for the last fiscal year was $1,250,000.\"\n",
        "\n",
        "    elif query == \"how has net income changed over the last year?\":\n",
        "        return \"The net income increased by 15% over the last year, reaching $250,000.\"\n",
        "\n",
        "    elif query == \"what are the company's total assets?\":\n",
        "        return \"The company's total assets are valued at $5,500,000.\"\n",
        "\n",
        "    elif query == \"what is the profit margin?\":\n",
        "        return \"The current profit margin is 20%.\"\n",
        "\n",
        "    elif query == \"who is the ceo?\":\n",
        "        return \"The current CEO is Jane Doe.\"\n",
        "\n",
        "    else:\n",
        "        # If the query doesn't match any of the predefined questions,\n",
        "        # return a default message.\n",
        "        return \"Sorry, I can only provide information on a few predefined queries. Please ask one of the supported questions.\"\n",
        "\n",
        "def main():\n",
        "    \"\"\"\n",
        "    Main function to run the chatbot interaction loop.\n",
        "    \"\"\"\n",
        "    print(\"Welcome to the Financial Analysis Chatbot!\")\n",
        "    print(\"You can ask me questions like:\")\n",
        "    print(\"- What is the total revenue?\")\n",
        "    print(\"- How has net income changed over the last year?\")\n",
        "    print(\"- What are the company's total assets?\")\n",
        "    print(\"- What is the profit margin?\")\n",
        "    print(\"- Who is the CEO?\")\n",
        "    print(\"Type 'exit' to quit the chatbot.\")\n",
        "    print(\"-\" * 30)\n",
        "\n",
        "    # Start an infinite loop to keep the chatbot running\n",
        "    while True:\n",
        "        # Get user input from the command line\n",
        "        user_input = input(\"You: \")\n",
        "\n",
        "        # Check if the user wants to exit\n",
        "        if user_input.lower().strip() == 'exit':\n",
        "            print(\"Chatbot: Goodbye!\")\n",
        "            break\n",
        "\n",
        "        # Get the response from our chatbot logic\n",
        "        response = get_financial_data_response(user_input)\n",
        "\n",
        "        # Print the chatbot's response\n",
        "        print(f\"Chatbot: {response}\")\n",
        "\n",
        "# This standard Python construct ensures that the main() function is called\n",
        "# only when the script is executed directly.\n",
        "if __name__ == \"__main__\":\n",
        "    main()"
      ],
      "outputs": [],
      "execution_count": null,
      "metadata": {
        "id": "u3oQnwesbWap"
      }
    }
  ],
  "metadata": {
    "colab": {
      "provenance": [],
      "include_colab_link": true
    },
    "kernelspec": {
      "display_name": "Python 3",
      "name": "python3"
    }
  },
  "nbformat": 4,
  "nbformat_minor": 0
}